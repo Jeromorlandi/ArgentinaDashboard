{
 "cells": [
  {
   "cell_type": "code",
   "execution_count": 43,
   "metadata": {},
   "outputs": [],
   "source": [
    "import datetime as dt\n",
    "import pandas as pd\n",
    "import numpy as np\n",
    "import matplotlib.pyplot as plt\n",
    "import plotly.express as px\n",
    "import yfinance as yf\n",
    "from yahoofinancials import YahooFinancials\n",
    "\n"
   ]
  },
  {
   "cell_type": "code",
   "execution_count": 47,
   "metadata": {},
   "outputs": [],
   "source": [
    "yf.pdr_override() # Desactivar la salida de progreso predeterminada [*********************100%***********************]  1 of 1 completed"
   ]
  },
  {
   "cell_type": "code",
   "execution_count": 49,
   "metadata": {},
   "outputs": [],
   "source": [
    "def find_fridays(year):\n",
    "    # Definimos una función que recibe como entrada un año (como un número entero)\n",
    "    # y devuelve una lista de fechas que corresponden a todos los viernes y los últimos días hábiles de cada mes de ese año\n",
    "    \n",
    "    viernes = []  # Creamos una lista vacía para almacenar las fechas de los viernes y los últimos días hábiles de cada mes\n",
    "    \n",
    "    for i in range(1, 13):  # Para cada mes del año\n",
    "        last_day = 31  # Establecemos el último día del mes en 31 por defecto\n",
    "        while True:\n",
    "            try:\n",
    "                date = datetime.date(year, i, last_day)  # Creamos una fecha con el año, mes y último día del mes\n",
    "                if date.weekday() != 5 and date.weekday() != 6:  # Si el día de la semana no es sábado ni domingo\n",
    "                    viernes.append(date)  # Agregamos la fecha a la lista de viernes y últimos días hábiles\n",
    "                    break  # Salimos del bucle while\n",
    "                last_day -= 1  # Si el día de la semana es sábado o domingo, intentamos con el día anterior\n",
    "            except ValueError:  # Si la fecha no es válida (por ejemplo, el 30 de febrero)\n",
    "                last_day -= 1  # Intentamos con el día anterior\n",
    "        \n",
    "        for j in range(1, 32):  # Para cada día del mes\n",
    "            try:\n",
    "                date = datetime.date(year, i, j)  # Creamos una fecha con el año, mes y día\n",
    "                if date.weekday() == 4:  # Si el día de la semana es viernes (0 es lunes, 6 es domingo)\n",
    "                    if date not in viernes:  # Verificamos si la fecha ya está en la lista de viernes y últimos días hábiles\n",
    "                        viernes.append(date)  # Agregamos la fecha a la lista de viernes\n",
    "            except ValueError:  # Si la fecha no es válida (por ejemplo, el 30 de febrero)\n",
    "                continue  # Ignoramos el error y pasamos al siguiente día\n",
    "    \n",
    "    return viernes  # Devolvemos la lista de fechas de viernes y últimos días hábiles\n",
    "def get_fridays_close(ticker, year):\n",
    "    # Definimos una función que recibe como entrada un símbolo de ticker de Yahoo Finance (como una cadena)\n",
    "    # y un año (como un número entero), y devuelve una serie de pandas que contiene los precios de cierre\n",
    "    # de los viernes de ese año para ese símbolo de ticker\n",
    "    \n",
    "    fridays = find_fridays(year)  # Obtenemos la lista de fechas de viernes\n",
    "    \n",
    "    data = yf.download(ticker, start=str(year)+'-01-01', end=str(year)+'-12-31')\n",
    "    # Descargamos los datos históricos de precios para el símbolo de ticker y el año especificados\n",
    "    # utilizando la función download de la biblioteca yfinance, y los almacenamos en un objeto DataFrame llamado \"data\"\n",
    "    \n",
    "    friday_data = data[data.index.to_series().dt.date.isin(fridays)]\n",
    "    # Extraemos los datos de precios solo para los viernes utilizando la función \"isin\" para verificar si\n",
    "    # cada fecha del índice del DataFrame \"data\" está en la lista de fechas de viernes. Para hacer esto, primero\n",
    "    # convertimos el índice del DataFrame en una serie de pandas utilizando \"to_series()\", luego extraemos\n",
    "    # la parte de fecha de la serie utilizando \"dt.date\" y finalmente utilizamos la función \"isin\" con la lista\n",
    "    # de fechas de viernes. El resultado es un DataFrame que contiene solo las filas para los viernes.\n",
    "    \n",
    "    return friday_data['Close']  # Devolvemos solo la columna de precios de cierre del DataFrame \"friday_data\""
   ]
  },
  {
   "cell_type": "code",
   "execution_count": 51,
   "metadata": {},
   "outputs": [
    {
     "name": "stdout",
     "output_type": "stream",
     "text": [
      "[*********************100%***********************]  1 of 1 completed\n",
      "            Close\n",
      "Date             \n",
      "2023-01-06  18.11\n",
      "2023-01-13  20.56\n",
      "2023-01-20  22.68\n",
      "2023-01-27  21.67\n",
      "2023-01-31  21.97\n",
      "2023-02-03  20.59\n",
      "2023-02-10  20.41\n",
      "2023-02-17  20.22\n",
      "2023-02-24  20.73\n",
      "2023-02-28  20.72\n",
      "2023-03-03  19.70\n",
      "2023-03-10  18.94\n",
      "2023-03-17  17.13\n",
      "2023-03-24  17.03\n"
     ]
    }
   ],
   "source": [
    "ticker = \"BMA\"\n",
    "year = 2023\n",
    "fridays_close = get_fridays_close(ticker, year)\n",
    "precios= pd.DataFrame(fridays_close)\n",
    "#precios = precios.astype(int)\n",
    "precios['Close'] = precios['Close'].apply(lambda x: round(x, 2))\n",
    "\n",
    "print(precios)\n"
   ]
  },
  {
   "cell_type": "markdown",
   "metadata": {},
   "source": []
  },

  {
   "cell_type": "code",
   "execution_count": 92,
   "metadata": {},
   "outputs": [
    {
     "name": "stdout",
     "output_type": "stream",
     "text": [
      "112301.0\n"
     ]
    }
   ],
   "source": [
    "#BOVESPA\n",
    "BVSP = yf.download('^BVSP', start='2021-12-17', progress=False)\n",
    "data= BVSP['Close'].loc['2023-01-20']\n",
    "print(data)"
   ]
  },
  {
   "cell_type": "code",
   "execution_count": null,
   "metadata": {},
   "outputs": [],
   "source": [
    "#MERVAL\n",
    "Merval = yf.download('^MERV', start='2021-12-17', progress=False)\n",
    "data= BVSP['Close'].loc['2023-01-20']\n",
    "print(data)"
   ]
  },
  {
   "cell_type": "code",
   "execution_count": 79,
   "metadata": {},
   "outputs": [
    {
     "name": "stdout",
     "output_type": "stream",
     "text": [
      "22676.552734375\n"
     ]
    }
   ],
   "source": [
    "#BTC-usd\n",
    "BTC = yf.download('BTC-USD', start='2021-12-17', progress=False)\n",
    "data= BTC['Close'].loc['2023-01-20']\n",
    "print(data)"
   ]
  },
  {
   "cell_type": "code",
   "execution_count": 80,
   "metadata": {},
   "outputs": [
    {
     "name": "stdout",
     "output_type": "stream",
     "text": [
      "1659.754150390625\n"
     ]
    }
   ],
   "source": [
    "#ETH-USD\n",
    "ETH = yf.download('ETH-USD', start='2021-12-17', progress=False)\n",
    "data= ETH['Close'].loc['2023-01-20']\n",
    "print(data)"
   ]
  },
  {
   "cell_type": "code",
   "execution_count": 81,
   "metadata": {},
   "outputs": [
    {
     "name": "stdout",
     "output_type": "stream",
     "text": [
      "11140.4296875\n"
     ]
    }
   ],
   "source": [
    "#NASDAQ\n",
    "NASDAQ = yf.download('^IXIC', start='2021-12-17', progress=False)\n",
    "data= NASDAQ['Close'].loc['2023-01-20']\n",
    "print(data)"
   ]
  },
  {
   "cell_type": "code",
   "execution_count": 82,
   "metadata": {},
   "outputs": [
    {
     "name": "stdout",
     "output_type": "stream",
     "text": [
      "3972.610107421875\n"
     ]
    }
   ],
   "source": [
    "#S&P 500\n",
    "SP500 = yf.download('^GSPC', start='2021-12-17', progress=False)\n",
    "data= SP500['Close'].loc['2023-01-20']\n",
    "print(data)"
   ]
  },
  {
   "cell_type": "code",
   "execution_count": 83,
   "metadata": {},
   "outputs": [
    {
     "name": "stdout",
     "output_type": "stream",
     "text": [
      "33375.48828125\n"
     ]
    }
   ],
   "source": [
    "#DOW JONES\n",
    "DOW = yf.download('^DJI', start='2021-12-17', progress=False)\n",
    "data= DOW['Close'].loc['2023-01-20']\n",
    "print(data)"
   ]
  },
  {
   "cell_type": "code",
   "execution_count": 84,
   "metadata": {},
   "outputs": [
    {
     "name": "stdout",
     "output_type": "stream",
     "text": [
      "11.920000076293945\n"
     ]
    }
   ],
   "source": [
    "#YPF\n",
    "YPF = yf.download('YPF', start='2021-12-17', progress=False)\n",
    "data= YPF['Close'].loc['2023-01-20']\n",
    "print(data)"
   ]
  },
  {
   "cell_type": "code",
   "execution_count": 85,
   "metadata": {},
   "outputs": [
    {
     "name": "stdout",
     "output_type": "stream",
     "text": [
      "13.75\n"
     ]
    }
   ],
   "source": [
    "#GGAL\n",
    "GGAL = yf.download('GGAL', start='2021-12-17', progress=False)\n",
    "data= GGAL['Close'].loc['2023-01-20']\n",
    "print(data)"
   ]
  },
  {
   "cell_type": "code",
   "execution_count": 86,
   "metadata": {},
   "outputs": [
    {
     "name": "stdout",
     "output_type": "stream",
     "text": [
      "22.68000030517578\n"
     ]
    }
   ],
   "source": [
    "#BMA\n",
    "BMA = yf.download('BMA', start='2021-12-17', progress=False)\n",
    "data= BMA['Close'].loc['2023-01-20']\n",
    "print(data)"
   ]
  },
  {
   "cell_type": "code",
   "execution_count": 87,
   "metadata": {},
   "outputs": [
    {
     "name": "stdout",
     "output_type": "stream",
     "text": [
      "37.70000076293945\n"
     ]
    }
   ],
   "source": [
    "#TERNIUM\n",
    "TX = yf.download('TX', start='2021-12-17', progress=False)\n",
    "data= TX['Close'].loc['2023-01-20']\n",
    "print(data)"
   ]
  },
  {
   "cell_type": "code",
   "execution_count": 88,
   "metadata": {},
   "outputs": [
    {
     "name": "stdout",
     "output_type": "stream",
     "text": [
      "87.62999725341797\n"
     ]
    }
   ],
   "source": [
    "#FUTURO BRENT \n",
    "BRENT = yf.download('BZ=F', start='2021-12-17', progress=False)\n",
    "data= BRENT['Close'].loc['2023-01-20']\n",
    "print(data)"
   ]
  },
  {
   "cell_type": "code",
   "execution_count": null,
   "metadata": {},
   "outputs": [],
   "source": []
  }
 ],
 "metadata": {
  "kernelspec": {
   "display_name": "Python 3",
   "language": "python",
   "name": "python3"
  },
  "language_info": {
   "codemirror_mode": {
    "name": "ipython",
    "version": 3
   },
   "file_extension": ".py",
   "mimetype": "text/x-python",
   "name": "python",
   "nbconvert_exporter": "python",
   "pygments_lexer": "ipython3",
   "version": "3.11.2"
  },
  "orig_nbformat": 4
 },
 "nbformat": 4,
 "nbformat_minor": 2
}
